{
 "cells": [
  {
   "cell_type": "markdown",
   "metadata": {},
   "source": [
    "### Disclaimer\n",
    "This notebook is based on a notebook made by Chris Rackauckas available at https://github.com/UCIDataScienceInitiative/IntroToJulia"
   ]
  },
  {
   "cell_type": "markdown",
   "metadata": {
    "slideshow": {
     "slide_type": "slide"
    }
   },
   "source": [
    "# My Reasons to Use Julia\n",
    "- I want to write code which is \"slick\" and readable (Code is read more than code is written!)\n",
    "- I want that same code to be fast\n",
    "- I prefer to write everything in one language\n",
    "- I am a developer: I want to write packages really fast which are really fast!\n",
    "- I am a package user: I heard about some really cool Julia packages/metapackages (JuMP, Plots, DifferentialEquations, Flux, Zygote, Distributions, Turing, ), and want to use Julia\n",
    "- I want built-in and easy native parallelism\n",
    "\n",
    "## Other reasons\n",
    "- I want to build your own Domain-Specific Language (DSL), compiler, etc.\n",
    "\n",
    "## Why not to use Julia\n",
    "- Everyone uses Python.\n",
    "- I am fine by calling libraries someone else has written.\n",
    "- I do miss some libraries.\n",
    "- I have a legacy code.\n",
    "- I cannot swallow compilation time (https://github.com/JuliaLang/PackageCompiler.jl)"
   ]
  },
  {
   "cell_type": "markdown",
   "metadata": {
    "slideshow": {
     "slide_type": "slide"
    }
   },
   "source": [
    "## I want to write code which is \"slick\" and readable\n",
    "- Julia supports anonymous functions, closures, and functors (more on this later). While this is available in other languages (python uses lambda syntax for anonymous function and partial from some other pkf to make the closure), these constructs in Julia represents zero cost abstractions.\n",
    "- you don't have to write nasty=optimized in order to run fast\n",
    "    + close to mathematical representation\n",
    "    + no need to write out for loops or fuse things unnaturally in order to make it faster (vectorization in MATLAB)\n",
    "    + the nastiness in optimization mainly stems from cases, where you want to avoid allocation of memory\n",
    "- the dot syntax\n",
    "    + for arithmetic operation but also for any generic function\n",
    "    + intuitive broadcasting over tensors\n",
    "    + it is internally fused in single for loop by the compiler\n"
   ]
  },
  {
   "cell_type": "code",
   "execution_count": 1,
   "metadata": {},
   "outputs": [
    {
     "name": "stdout",
     "output_type": "stream",
     "text": [
      "(f(x))[1] = 0.4431126f0 (tracked)\n",
      "(f(xx))[1] = 0.40939623f0 (tracked)\n"
     ]
    }
   ],
   "source": [
    "using Flux, Flux.Tracker\n",
    "using Base.Math: clamp\n",
    "using Flux: data\n",
    "\n",
    "function fgsm(f::Function, x, ϵ::Real) \n",
    "    ∇f = data(Tracker.gradient(f, x)[1])\n",
    "    x .- ϵ .* sign.(∇f)\n",
    "end\n",
    "\n",
    "f = Chain(Dense(10, 4, relu), Dense(4,2), softmax)\n",
    "x = randn(10,1)\n",
    "\n",
    "@show f(x)[1]\n",
    "xx = fgsm(x -> f(x)[1], x, 0.1)\n",
    "@show f(xx)[1];"
   ]
  },
  {
   "cell_type": "code",
   "execution_count": 2,
   "metadata": {},
   "outputs": [
    {
     "name": "stdout",
     "output_type": "stream",
     "text": [
      "(f(x))[1] = 0.4431126f0 (tracked)\n",
      "(f(xx))[1] = 0.2652276f0 (tracked)\n"
     ]
    }
   ],
   "source": [
    "function pgd(f::Function, x, α::Real, steps::Integer, proj::Function)\n",
    "    δ = zeros(size(x,1))\n",
    "    for i in 1:steps\n",
    "        ∇f = Tracker.gradient(δ->f(x + δ), δ)[1].data\n",
    "        δ = proj(δ .- α .* ∇f)\n",
    "    end\n",
    "    x .+ δ\n",
    "end\n",
    "\n",
    "@show f(x)[1]\n",
    "xx = pgd(x -> f(x)[1], x, 0.1, 100, x -> clamp.(x , -0.5, 0.5))\n",
    "@show f(xx)[1];"
   ]
  },
  {
   "cell_type": "markdown",
   "metadata": {},
   "source": [
    "## Why single language matters?\n",
    "- It si flexible, as it allows you to easily combine very different libraries.\n",
    "- For example DifferentialEquations.jl with Flux.jl offers to use neural networks inside differential equations and vice versa.\n",
    "- An independent package for GPU computing allows to DifferentialEquations or Flux to utilize the power of GPU, *without writing any special code* for GPU (compare this to TensorFlow or PyTorch, which ships with their own implementations of functions executed on GPU).\n",
    "- We have prototyped Graph neural networks with rich descriptions of vertices by combining LightGraphs, MetaGraphs, Mill.jl in one evening.\n",
    "- When you use callback functions, you might need to cross bariers between two languages, which costs you time. This is important in optimization libraries.\n",
    "- Personally, I do not have time to master a single language, cannot think about two or more."
   ]
  },
  {
   "cell_type": "markdown",
   "metadata": {
    "slideshow": {
     "slide_type": "slide"
    }
   },
   "source": [
    "## Why Does Julia Work So Well?\n",
    "\n",
    "There is an obvious reason to choose Julia:\n",
    "\n",
    ">it's faster than other scripting languages, allowing you to have the rapid development of Python/MATLAB/R while producing code that is as fast as C/Fortran\n",
    "\n",
    "Newcomers to Julia might be a little wary of that statement.\n",
    "\n",
    "1. Why not just make other scripting languages faster? If Julia can do it, why can't others? \n",
    "2. How do you interpert Julia benchmarks to confirm this? (This is surprisingly difficult for many!)\n",
    "2. That sounds like it violates the No-Free-Lunch heuristic. Is there really nothing lost?\n",
    "\n",
    "Many people believe Julia is fast **because it is Just-In-Time (JIT) compiled** (i.e. every statement is run using compiled functions which are either compiled right before they are used, or cached compilations from before). This leads to questions about what Julia gives over JIT'd implementations of Python/R (and MATLAB by default uses a JIT). These JIT compilers have been optimized for far longer than Julia, so why should we be crazy and believe that somehow Julia quickly out-optimized all of them? However, that is a complete misunderstanding of Julia. What I want show, in a very visual way, is that Julia is fast because of its design decisions. The core design decision, **type-stability through specialization via multiple-dispatch** is what allows Julia to be very easy for a compiler to make into efficient code, but also allow the code to be very concise and \"look like a scripting language\". This will lead to some very clear performance gains.\n",
    "\n",
    "But what we will see in this example is that Julia does not always act like other scripting languages. There are some \"lunches lost\" that we will have to understand. Understanding how this design decision effects the way you must code is crucial to producing efficient Julia code.\n",
    "\n",
    "To see the difference, we only need to go as far as basic math."
   ]
  },
  {
   "cell_type": "markdown",
   "metadata": {
    "slideshow": {
     "slide_type": "slide"
    }
   },
   "source": [
    "## Arithmetic in Julia\n",
    "\n",
    "In general, math in Julia looks the same as in other scripting languages. One detail to note is that the numbers are \"true numbers\", as in a `Float64` is truly the same thing as a 64-bit floating point number or a \"double\" in C. A `Vector{Float64}` is the same memory layout as an array of doubles in C, both making interop with C easy (indeed, in some sense \"Julia is a layer on top of C\") and it leads to high performance (the same is true for NumPy arrays).\n",
    "\n",
    "Some math in Julia:"
   ]
  },
  {
   "cell_type": "code",
   "execution_count": 3,
   "metadata": {
    "slideshow": {
     "slide_type": "fragment"
    }
   },
   "outputs": [
    {
     "name": "stdout",
     "output_type": "stream",
     "text": [
      "[4.0, 1.33333, 1.0, 20.0]\n"
     ]
    }
   ],
   "source": [
    "a = 2+2\n",
    "b = a/3\n",
    "c = a÷3 #\\div tab completion, means integer division\n",
    "d = 4*5\n",
    "println([a;b;c;d])"
   ]
  },
  {
   "cell_type": "markdown",
   "metadata": {
    "slideshow": {
     "slide_type": "slide"
    }
   },
   "source": [
    "Note here that I showed off Julia's unicode tab completion. Julia allows for unicode characters, and these can be used by tab completing Latex-like statements. Also, multiplication by a number is allowed without the * if followed by a variable. For example, the following is allowed Julia code:"
   ]
  },
  {
   "cell_type": "code",
   "execution_count": 4,
   "metadata": {
    "slideshow": {
     "slide_type": "fragment"
    }
   },
   "outputs": [
    {
     "data": {
      "text/plain": [
       "0.18738131458572463"
      ]
     },
     "execution_count": 4,
     "metadata": {},
     "output_type": "execute_result"
    }
   ],
   "source": [
    "α = 0.5\n",
    "∇f(u) = α*u; ∇f(2)\n",
    "x̂ = 0.1\n",
    "x₁ = 0.3\n",
    "sin(2π * x₁ * x̂)"
   ]
  },
  {
   "cell_type": "markdown",
   "metadata": {
    "slideshow": {
     "slide_type": "slide"
    }
   },
   "source": [
    "# Core Idea: Multiple Dispatch + Type Stability => Speed + Readability\n",
    "\n",
    "Type stability is one crucial feature which separates Julia apart from other scripting languages.  In fact, the core idea of Julia is the following statement:\n",
    "\n",
    "#### Multiple dispatch allows for a language to dispatch function calls onto type-stable functions.\n",
    "\n",
    "This is what Julia is all about, so let's take some time to dig into it. If you have type stability inside of a function (meaning, any function call within the function is also type-stable), then the compiler can know the types of the variables at every step. Therefore it can compile the function with the full amount of optimizations since at this point the code is essentially the same as C/Fortran code. Multiple-dispatch works into this story because it means that `*` can be a type-stable function: it just means different things for different inputs. But if the compiler can know the types of `a` and `b` before calling `*`, then it knows which `*` method to use, and therefore it knows the output type of `c=a*b`. Thus it can propogate the type information all the way down, knowing all of the types along the way, allowing for full optimiziations. Multiple dispatch allows `*` to mean the \"right thing\" every time you use it, almost magically allowing this optimization.\n",
    "\n",
    "There are a few things we learn from this. For one, in order to achieve this level of optimization, you must have type-stability. This is not featured in the standard libraries of most languages, and was choice that was made to make the experience a little easier for users. Secondly, multiple dispatch was required to be able to specialize the functions for types which allows for the scripting language syntax to be \"more explicit than meets the eye\". Lastly, a robust type system is required. In order to build the type-unstable exponentiation (which may be needed) we needed functionalities like convert. Thus the language must be designed to be type-stable with multiple dispatch and centered around a robust type system in order to achieve this raw performance while maintaining the syntax/ease-of-use of a scripting language. You can put a JIT on Python, but to really make it Julia, you would have to design it to be Julia."
   ]
  },
  {
   "cell_type": "markdown",
   "metadata": {},
   "source": [
    "### How type instability kills the performance (Strict typing)\n",
    "\n",
    "Type-stability is not the only necessity. You also need strict typing. In Python you can put anything into an array. In Julia, you can only put types of T into a Vector{T}. To give generality, Julia offers various non-strict forms of types. The biggest example is Any. Anything satisfies T:<Any (hence the name). Therefore, if you need it, you can create a Vector{Any}. For example: "
   ]
  },
  {
   "cell_type": "code",
   "execution_count": 5,
   "metadata": {},
   "outputs": [
    {
     "data": {
      "text/plain": [
       "sq (generic function with 1 method)"
      ]
     },
     "execution_count": 5,
     "metadata": {},
     "output_type": "execute_result"
    }
   ],
   "source": [
    "using BenchmarkTools\n",
    "sq(x) = x^2"
   ]
  },
  {
   "cell_type": "code",
   "execution_count": 6,
   "metadata": {},
   "outputs": [
    {
     "name": "stdout",
     "output_type": "stream",
     "text": [
      "typeof(x₁) = UnitRange{Int64}\n",
      "  921.615 ns (4 allocations: 8.03 KiB)\n"
     ]
    }
   ],
   "source": [
    "x₁ = 1:1000\n",
    "@show typeof(x₁)\n",
    "@btime sq.(x₁);"
   ]
  },
  {
   "cell_type": "code",
   "execution_count": 7,
   "metadata": {
    "scrolled": true
   },
   "outputs": [
    {
     "ename": "UndefVarError",
     "evalue": "UndefVarError: x₂ not defined",
     "output_type": "error",
     "traceback": [
      "UndefVarError: x₂ not defined",
      "",
      "Stacktrace:",
      " [1] top-level scope at show.jl:555",
      " [2] top-level scope at In[7]:1"
     ]
    }
   ],
   "source": [
    "@show typeof(x₂)\n",
    "x₂ = collect(1:1000);\n",
    "@btime sq.(x₂);"
   ]
  },
  {
   "cell_type": "code",
   "execution_count": 8,
   "metadata": {},
   "outputs": [
    {
     "ename": "UndefVarError",
     "evalue": "UndefVarError: x₃ not defined",
     "output_type": "error",
     "traceback": [
      "UndefVarError: x₃ not defined",
      "",
      "Stacktrace:",
      " [1] top-level scope at show.jl:555",
      " [2] top-level scope at In[8]:1"
     ]
    }
   ],
   "source": [
    "@show typeof(x₃)\n",
    "x₃ = vcat(collect(1:999),\"hello\");\n",
    "@btime sq.(x₃);"
   ]
  },
  {
   "cell_type": "code",
   "execution_count": 9,
   "metadata": {},
   "outputs": [
    {
     "ename": "UndefVarError",
     "evalue": "UndefVarError: x₄ not defined",
     "output_type": "error",
     "traceback": [
      "UndefVarError: x₄ not defined",
      "",
      "Stacktrace:",
      " [1] top-level scope at show.jl:555",
      " [2] top-level scope at In[9]:1"
     ]
    }
   ],
   "source": [
    "@show typeof(x₄)\n",
    "x₄ = fill(\"hello\",1000);\n",
    "@btime sq.(x₄);"
   ]
  },
  {
   "cell_type": "markdown",
   "metadata": {},
   "source": [
    "The element of `x₃`, ANY, is an abstract type.  A function which is called on an abstract type cannot know the type of any element (since, in this example, any element can be either a float or an integer). Thus the optimization that was achieved by multiple-dispatch, knowing the type each step of the way, is no longer present. Therefore the optimizations are gone and Julia will slow down to the speed of other scripting languages.\n",
    "\n",
    "This leads to the performance principle: use strict typing whenever possible. There are other advantages: a strictly typed Vector{Float64} is actually byte-compatible with C/Fortran, and so it can be used directly by C/Fortran programs without conversion.\n"
   ]
  },
  {
   "cell_type": "code",
   "execution_count": 10,
   "metadata": {},
   "outputs": [
    {
     "ename": "UndefVarError",
     "evalue": "UndefVarError: x₃ not defined",
     "output_type": "error",
     "traceback": [
      "UndefVarError: x₃ not defined",
      "",
      "Stacktrace:",
      " [1] top-level scope at In[10]:1"
     ]
    }
   ],
   "source": [
    "x₅ = Array{Union{String, Int64}}(x₃)\n",
    "@show typeof(x₅)\n",
    "@btime sq.(x₅);"
   ]
  },
  {
   "cell_type": "markdown",
   "metadata": {},
   "source": [
    "The decrease in performance is not that high, since from Julia 1.0 julia compiler can optimize small unions."
   ]
  },
  {
   "cell_type": "markdown",
   "metadata": {},
   "source": [
    "### Multiple dispatch allows different types to work seamlessly"
   ]
  },
  {
   "cell_type": "code",
   "execution_count": 11,
   "metadata": {},
   "outputs": [
    {
     "data": {
      "text/plain": [
       "2×2 Array{Float64,2}:\n",
       " -2.0   1.0\n",
       "  1.5  -0.5"
      ]
     },
     "execution_count": 11,
     "metadata": {},
     "output_type": "execute_result"
    }
   ],
   "source": [
    "A₁ = [1 2; 3 4];\n",
    "inv(A₁)"
   ]
  },
  {
   "cell_type": "code",
   "execution_count": 12,
   "metadata": {},
   "outputs": [
    {
     "data": {
      "text/plain": [
       "2×2 Array{Rational{Int64},2}:\n",
       "  3//2  -3//4\n",
       " -1//1   3//2"
      ]
     },
     "execution_count": 12,
     "metadata": {},
     "output_type": "execute_result"
    }
   ],
   "source": [
    "A₂ = [1 1//2 ; 2//3 1]\n",
    "inv(A₂)"
   ]
  },
  {
   "cell_type": "code",
   "execution_count": 13,
   "metadata": {
    "slideshow": {
     "slide_type": "fragment"
    }
   },
   "outputs": [
    {
     "data": {
      "text/html": [
       "inv<i>{T}</i>(A::<b>Union{DenseArray{T,2}, ReinterpretArray{T,2,S,A} where S where A<:Union{SubArray{T,N,A,I,true} where I<:Union{Tuple{Vararg{Real,N} where N}, Tuple{AbstractUnitRange,Vararg{Any,N} where N}} where A<:DenseArray where N where T, DenseArray}, ReshapedArray{T,2,A,MI} where MI<:Tuple{Vararg{SignedMultiplicativeInverse{Int64},N} where N} where A<:Union{ReinterpretArray{T,N,S,A} where S where A<:Union{SubArray{T,N,A,I,true} where I<:Union{Tuple{Vararg{Real,N} where N}, Tuple{AbstractUnitRange,Vararg{Any,N} where N}} where A<:DenseArray where N where T, DenseArray} where N where T, SubArray{T,N,A,I,true} where I<:Union{Tuple{Vararg{Real,N} where N}, Tuple{AbstractUnitRange,Vararg{Any,N} where N}} where A<:DenseArray where N where T, DenseArray}, SubArray{T,2,A,I,L} where L where I<:Tuple{Vararg{Union{Int64, AbstractRange{Int64}, AbstractCartesianIndex},N} where N} where A<:Union{ReinterpretArray{T,N,S,A} where S where A<:Union{SubArray{T,N,A,I,true} where I<:Union{Tuple{Vararg{Real,N} where N}, Tuple{AbstractUnitRange,Vararg{Any,N} where N}} where A<:DenseArray where N where T, DenseArray} where N where T, ReshapedArray{T,N,A,MI} where MI<:Tuple{Vararg{SignedMultiplicativeInverse{Int64},N} where N} where A<:Union{ReinterpretArray{T,N,S,A} where S where A<:Union{SubArray{T,N,A,I,true} where I<:Union{Tuple{Vararg{Real,N} where N}, Tuple{AbstractUnitRange,Vararg{Any,N} where N}} where A<:DenseArray where N where T, DenseArray} where N where T, SubArray{T,N,A,I,true} where I<:Union{Tuple{Vararg{Real,N} where N}, Tuple{AbstractUnitRange,Vararg{Any,N} where N}} where A<:DenseArray where N where T, DenseArray} where N where T, DenseArray}}</b>) in LinearAlgebra at <a href=\"file:///Users/osx/buildbot/slave/package_osx64/build/usr/share/julia/stdlib/v1.1/LinearAlgebra/src/dense.jl\" target=\"_blank\">/Users/osx/buildbot/slave/package_osx64/build/usr/share/julia/stdlib/v1.1/LinearAlgebra/src/dense.jl:724</a>"
      ],
      "text/plain": [
       "inv(A::Union{DenseArray{T,2}, ReinterpretArray{T,2,S,A} where S where A<:Union{SubArray{T,N,A,I,true} where I<:Union{Tuple{Vararg{Real,N} where N}, Tuple{AbstractUnitRange,Vararg{Any,N} where N}} where A<:DenseArray where N where T, DenseArray}, ReshapedArray{T,2,A,MI} where MI<:Tuple{Vararg{SignedMultiplicativeInverse{Int64},N} where N} where A<:Union{ReinterpretArray{T,N,S,A} where S where A<:Union{SubArray{T,N,A,I,true} where I<:Union{Tuple{Vararg{Real,N} where N}, Tuple{AbstractUnitRange,Vararg{Any,N} where N}} where A<:DenseArray where N where T, DenseArray} where N where T, SubArray{T,N,A,I,true} where I<:Union{Tuple{Vararg{Real,N} where N}, Tuple{AbstractUnitRange,Vararg{Any,N} where N}} where A<:DenseArray where N where T, DenseArray}, SubArray{T,2,A,I,L} where L where I<:Tuple{Vararg{Union{Int64, AbstractRange{Int64}, AbstractCartesianIndex},N} where N} where A<:Union{ReinterpretArray{T,N,S,A} where S where A<:Union{SubArray{T,N,A,I,true} where I<:Union{Tuple{Vararg{Real,N} where N}, Tuple{AbstractUnitRange,Vararg{Any,N} where N}} where A<:DenseArray where N where T, DenseArray} where N where T, ReshapedArray{T,N,A,MI} where MI<:Tuple{Vararg{SignedMultiplicativeInverse{Int64},N} where N} where A<:Union{ReinterpretArray{T,N,S,A} where S where A<:Union{SubArray{T,N,A,I,true} where I<:Union{Tuple{Vararg{Real,N} where N}, Tuple{AbstractUnitRange,Vararg{Any,N} where N}} where A<:DenseArray where N where T, DenseArray} where N where T, SubArray{T,N,A,I,true} where I<:Union{Tuple{Vararg{Real,N} where N}, Tuple{AbstractUnitRange,Vararg{Any,N} where N}} where A<:DenseArray where N where T, DenseArray} where N where T, DenseArray}}) where T in LinearAlgebra at /Users/osx/buildbot/slave/package_osx64/build/usr/share/julia/stdlib/v1.1/LinearAlgebra/src/dense.jl:724"
      ]
     },
     "execution_count": 13,
     "metadata": {},
     "output_type": "execute_result"
    }
   ],
   "source": [
    "@which inv(A₁)"
   ]
  },
  {
   "cell_type": "code",
   "execution_count": 14,
   "metadata": {
    "slideshow": {
     "slide_type": "fragment"
    }
   },
   "outputs": [
    {
     "data": {
      "text/html": [
       "inv<i>{T}</i>(A::<b>Union{DenseArray{T,2}, ReinterpretArray{T,2,S,A} where S where A<:Union{SubArray{T,N,A,I,true} where I<:Union{Tuple{Vararg{Real,N} where N}, Tuple{AbstractUnitRange,Vararg{Any,N} where N}} where A<:DenseArray where N where T, DenseArray}, ReshapedArray{T,2,A,MI} where MI<:Tuple{Vararg{SignedMultiplicativeInverse{Int64},N} where N} where A<:Union{ReinterpretArray{T,N,S,A} where S where A<:Union{SubArray{T,N,A,I,true} where I<:Union{Tuple{Vararg{Real,N} where N}, Tuple{AbstractUnitRange,Vararg{Any,N} where N}} where A<:DenseArray where N where T, DenseArray} where N where T, SubArray{T,N,A,I,true} where I<:Union{Tuple{Vararg{Real,N} where N}, Tuple{AbstractUnitRange,Vararg{Any,N} where N}} where A<:DenseArray where N where T, DenseArray}, SubArray{T,2,A,I,L} where L where I<:Tuple{Vararg{Union{Int64, AbstractRange{Int64}, AbstractCartesianIndex},N} where N} where A<:Union{ReinterpretArray{T,N,S,A} where S where A<:Union{SubArray{T,N,A,I,true} where I<:Union{Tuple{Vararg{Real,N} where N}, Tuple{AbstractUnitRange,Vararg{Any,N} where N}} where A<:DenseArray where N where T, DenseArray} where N where T, ReshapedArray{T,N,A,MI} where MI<:Tuple{Vararg{SignedMultiplicativeInverse{Int64},N} where N} where A<:Union{ReinterpretArray{T,N,S,A} where S where A<:Union{SubArray{T,N,A,I,true} where I<:Union{Tuple{Vararg{Real,N} where N}, Tuple{AbstractUnitRange,Vararg{Any,N} where N}} where A<:DenseArray where N where T, DenseArray} where N where T, SubArray{T,N,A,I,true} where I<:Union{Tuple{Vararg{Real,N} where N}, Tuple{AbstractUnitRange,Vararg{Any,N} where N}} where A<:DenseArray where N where T, DenseArray} where N where T, DenseArray}}</b>) in LinearAlgebra at <a href=\"file:///Users/osx/buildbot/slave/package_osx64/build/usr/share/julia/stdlib/v1.1/LinearAlgebra/src/dense.jl\" target=\"_blank\">/Users/osx/buildbot/slave/package_osx64/build/usr/share/julia/stdlib/v1.1/LinearAlgebra/src/dense.jl:724</a>"
      ],
      "text/plain": [
       "inv(A::Union{DenseArray{T,2}, ReinterpretArray{T,2,S,A} where S where A<:Union{SubArray{T,N,A,I,true} where I<:Union{Tuple{Vararg{Real,N} where N}, Tuple{AbstractUnitRange,Vararg{Any,N} where N}} where A<:DenseArray where N where T, DenseArray}, ReshapedArray{T,2,A,MI} where MI<:Tuple{Vararg{SignedMultiplicativeInverse{Int64},N} where N} where A<:Union{ReinterpretArray{T,N,S,A} where S where A<:Union{SubArray{T,N,A,I,true} where I<:Union{Tuple{Vararg{Real,N} where N}, Tuple{AbstractUnitRange,Vararg{Any,N} where N}} where A<:DenseArray where N where T, DenseArray} where N where T, SubArray{T,N,A,I,true} where I<:Union{Tuple{Vararg{Real,N} where N}, Tuple{AbstractUnitRange,Vararg{Any,N} where N}} where A<:DenseArray where N where T, DenseArray}, SubArray{T,2,A,I,L} where L where I<:Tuple{Vararg{Union{Int64, AbstractRange{Int64}, AbstractCartesianIndex},N} where N} where A<:Union{ReinterpretArray{T,N,S,A} where S where A<:Union{SubArray{T,N,A,I,true} where I<:Union{Tuple{Vararg{Real,N} where N}, Tuple{AbstractUnitRange,Vararg{Any,N} where N}} where A<:DenseArray where N where T, DenseArray} where N where T, ReshapedArray{T,N,A,MI} where MI<:Tuple{Vararg{SignedMultiplicativeInverse{Int64},N} where N} where A<:Union{ReinterpretArray{T,N,S,A} where S where A<:Union{SubArray{T,N,A,I,true} where I<:Union{Tuple{Vararg{Real,N} where N}, Tuple{AbstractUnitRange,Vararg{Any,N} where N}} where A<:DenseArray where N where T, DenseArray} where N where T, SubArray{T,N,A,I,true} where I<:Union{Tuple{Vararg{Real,N} where N}, Tuple{AbstractUnitRange,Vararg{Any,N} where N}} where A<:DenseArray where N where T, DenseArray} where N where T, DenseArray}}) where T in LinearAlgebra at /Users/osx/buildbot/slave/package_osx64/build/usr/share/julia/stdlib/v1.1/LinearAlgebra/src/dense.jl:724"
      ]
     },
     "execution_count": 14,
     "metadata": {},
     "output_type": "execute_result"
    }
   ],
   "source": [
    "@which inv(A₂)"
   ]
  },
  {
   "cell_type": "markdown",
   "metadata": {
    "slideshow": {
     "slide_type": "slide"
    }
   },
   "source": [
    "### Sometimes, it is worth to pay a price for type instability"
   ]
  },
  {
   "cell_type": "code",
   "execution_count": 15,
   "metadata": {},
   "outputs": [
    {
     "name": "stdout",
     "output_type": "stream",
     "text": [
      "Array{Array{Float64,2},1}\n",
      "  246.898 μs (1002 allocations: 164.20 KiB)\n",
      "Array{Any,1}\n",
      "  112.010 μs (1502 allocations: 172.02 KiB)\n",
      "Array{Union{UniformScaling{Bool}, Array{T,2} where T},1}\n",
      "  105.550 μs (1502 allocations: 172.02 KiB)\n"
     ]
    }
   ],
   "source": [
    "using LinearAlgebra\n",
    "As = vcat([randn(10,10) for i in 1:500],fill(Matrix(UniformScaling(1.0),(10,10)), 500))\n",
    "println(typeof(As));\n",
    "@btime map(A -> A*x, As);\n",
    "As = vcat([randn(10,10) for i in 1:500], fill(I, 500));\n",
    "println(typeof(As))\n",
    "x = randn(10)\n",
    "@btime map(A -> A*x, As);\n",
    "As = Vector{Union{Matrix, UniformScaling{Bool}}}(As);\n",
    "println(typeof(As));\n",
    "@btime map(A -> A*x, As);"
   ]
  },
  {
   "cell_type": "markdown",
   "metadata": {},
   "source": [
    "### A low cost cost for user-defined types"
   ]
  },
  {
   "cell_type": "code",
   "execution_count": 16,
   "metadata": {},
   "outputs": [
    {
     "name": "stdout",
     "output_type": "stream",
     "text": [
      "typeof(x₁) = Array{Int64,1}\n",
      "  641.852 ns (2 allocations: 7.95 KiB)\n",
      "typeof(x₆) = Array{MyStruct{Int64},1}\n",
      "  652.722 ns (2 allocations: 7.95 KiB)\n"
     ]
    }
   ],
   "source": [
    "struct MyStruct{T}\n",
    "    x::T\n",
    "end\n",
    "\n",
    "sq(x::MyStruct) = sq(x.x)\n",
    "x₁ = collect(1:1000);\n",
    "x₆ = MyStruct.(x₁);\n",
    "@show typeof(x₁);\n",
    "@btime [sq(x) for x in x₁];\n",
    "@show typeof(x₆);\n",
    "@btime [sq(x) for x in x₆];"
   ]
  },
  {
   "cell_type": "markdown",
   "metadata": {
    "slideshow": {
     "slide_type": "slide"
    }
   },
   "source": [
    "## Type-stability and Code Introspection\n",
    "\n",
    "Type stability is the idea that there is only 1 possible type which can be outputted from a method. For example, the reasonable type to output from `*(::Float64,::Float64)` is a `Float64`. No matter what you give it, it will spit out a `Float64`. This right here is multiple-dispatch: the `*` operator calls a different method depending on the types that it sees. When it sees floats, it will spit out floats. Julia provides code introspection macros so that way you can see what your code actually compiles to. Thus Julia is not just a scripting language, it's a scripting language which lets you deal with assembly! Julia, like many other languages, compiles to LLVM IR (LLVM's Intermediate Representation is a type of portable assembly language)."
   ]
  },
  {
   "cell_type": "code",
   "execution_count": 17,
   "metadata": {},
   "outputs": [
    {
     "data": {
      "text/plain": [
       "CodeInfo(\n",
       "\u001b[90m1 ─\u001b[39m %1 = (Base.mul_int)(x, y)\n",
       "\u001b[90m└──\u001b[39m      return %1\n",
       ")"
      ]
     },
     "execution_count": 17,
     "metadata": {},
     "output_type": "execute_result"
    }
   ],
   "source": [
    "@code_lowered 2*5"
   ]
  },
  {
   "cell_type": "code",
   "execution_count": 18,
   "metadata": {},
   "outputs": [
    {
     "data": {
      "text/plain": [
       "CodeInfo(\n",
       "\u001b[90m1 ─\u001b[39m %1 = (Base.mul_int)(x, y)\u001b[36m::Int64\u001b[39m\n",
       "\u001b[90m└──\u001b[39m      return %1\n",
       ") => Int64"
      ]
     },
     "execution_count": 18,
     "metadata": {},
     "output_type": "execute_result"
    }
   ],
   "source": [
    "@code_typed 2*5"
   ]
  },
  {
   "cell_type": "code",
   "execution_count": 19,
   "metadata": {
    "slideshow": {
     "slide_type": "fragment"
    }
   },
   "outputs": [
    {
     "name": "stdout",
     "output_type": "stream",
     "text": [
      "\n",
      ";  @ int.jl:54 within `*'\n",
      "define i64 @\"julia_*_11080\"(i64, i64) {\n",
      "top:\n",
      "  %2 = mul i64 %1, %0\n",
      "  ret i64 %2\n",
      "}\n"
     ]
    }
   ],
   "source": [
    "@code_llvm 2*5"
   ]
  },
  {
   "cell_type": "markdown",
   "metadata": {
    "slideshow": {
     "slide_type": "slide"
    }
   },
   "source": [
    "This output is saying that a floating point multiplication operation is performed and the answer is returned. We can even look at the assembly"
   ]
  },
  {
   "cell_type": "code",
   "execution_count": 20,
   "metadata": {
    "slideshow": {
     "slide_type": "fragment"
    }
   },
   "outputs": [
    {
     "name": "stdout",
     "output_type": "stream",
     "text": [
      "\t.section\t__TEXT,__text,regular,pure_instructions\n",
      "; ┌ @ int.jl:54 within `*'\n",
      "\tdecl\t%eax\n",
      "\timull\t%esi, %edi\n",
      "\tdecl\t%eax\n",
      "\tmovl\t%edi, %eax\n",
      "\tretl\n",
      "; └\n",
      "; ┌ @ int.jl:54 within `<invalid>'\n",
      "\tnopl\t(%eax,%eax)\n",
      "; └\n"
     ]
    }
   ],
   "source": [
    "@code_native 2*5"
   ]
  },
  {
   "cell_type": "markdown",
   "metadata": {
    "slideshow": {
     "slide_type": "slide"
    }
   },
   "source": [
    "This shows us that the `*` function has compiled down to exactly the same operation as what happens in C/Fortran, meaning it achieves the same performance (even though it's defined in Julia). Thus it is possible to not just get \"close\" to C, but actually get the same C code out. In what cases does this happen?\n",
    "\n",
    "The interesting thing about Julia is that, asking which cases this happens is not the right question. the right question is, in what cases does the code not compile to something as efficient as C/Fortran? The key here is type-stability. If a function is type-stable, then the compiler can know what the type will be at all points in the function and smartly optimize it to the same assembly as C/Fortran. If it is not type-stable, Julia has to add expensive \"boxing\" to ensure types are found/known before operations. \n",
    "\n",
    "#### This is the key difference between Julia and other scripting languages\n",
    "\n",
    "The upside is that Julia's functions, when type stable, are essentially C/Fortran functions. Thus `^` (exponentiation) is fast. However, `^(::Int64,::Int64)` is type-stable, so what type should it output?"
   ]
  },
  {
   "cell_type": "code",
   "execution_count": 21,
   "metadata": {
    "slideshow": {
     "slide_type": "slide"
    }
   },
   "outputs": [
    {
     "data": {
      "text/plain": [
       "32"
      ]
     },
     "execution_count": 21,
     "metadata": {},
     "output_type": "execute_result"
    }
   ],
   "source": [
    "x, y = 2, 5\n",
    "x^y"
   ]
  },
  {
   "cell_type": "code",
   "execution_count": 22,
   "metadata": {
    "slideshow": {
     "slide_type": "fragment"
    }
   },
   "outputs": [
    {
     "ename": "DomainError",
     "evalue": "DomainError with -5:\nCannot raise an integer x to a negative power -5.\nMake x a float by adding a zero decimal (e.g., 2.0^-5 instead of 2^-5), or write 1/x^5, float(x)^-5, or (x//1)^-5",
     "output_type": "error",
     "traceback": [
      "DomainError with -5:\nCannot raise an integer x to a negative power -5.\nMake x a float by adding a zero decimal (e.g., 2.0^-5 instead of 2^-5), or write 1/x^5, float(x)^-5, or (x//1)^-5",
      "",
      "Stacktrace:",
      " [1] throw_domerr_powbysq(::Int64, ::Int64) at ./intfuncs.jl:176",
      " [2] power_by_squaring(::Int64, ::Int64) at ./intfuncs.jl:196",
      " [3] ^(::Int64, ::Int64) at ./intfuncs.jl:220",
      " [4] top-level scope at In[22]:2"
     ]
    }
   ],
   "source": [
    "x, y = 2, -5\n",
    "x^y"
   ]
  },
  {
   "cell_type": "markdown",
   "metadata": {
    "slideshow": {
     "slide_type": "fragment"
    }
   },
   "source": [
    "Here we get an error. In order to guarantee to the compiler that `^` will give an Int64 back, it has to throw an error. If you do this in MATLAB, Python, or R, it will not throw an error. That is because those languages do not have their entire language built around type stability."
   ]
  },
  {
   "cell_type": "code",
   "execution_count": 23,
   "metadata": {},
   "outputs": [
    {
     "data": {
      "text/plain": [
       "0.03125"
      ]
     },
     "execution_count": 23,
     "metadata": {},
     "output_type": "execute_result"
    }
   ],
   "source": [
    "2^-5"
   ]
  },
  {
   "cell_type": "markdown",
   "metadata": {
    "slideshow": {
     "slide_type": "slide"
    }
   },
   "source": [
    "What happens when we don't have type stability? Let's inspect this code:"
   ]
  },
  {
   "cell_type": "code",
   "execution_count": 24,
   "metadata": {
    "slideshow": {
     "slide_type": "fragment"
    }
   },
   "outputs": [
    {
     "name": "stdout",
     "output_type": "stream",
     "text": [
      "\t.section\t__TEXT,__text,regular,pure_instructions\n",
      "; ┌ @ intfuncs.jl:220 within `^'\n",
      "\tpushl\t%eax\n",
      "\tdecl\t%eax\n",
      "\tmovl\t$291097920, %eax        ## imm = 0x1159CD40\n",
      "\taddl\t%eax, (%eax)\n",
      "\taddb\t%al, (%eax)\n",
      "\tcalll\t*%eax\n",
      "\tpopl\t%ecx\n",
      "\tretl\n",
      "\tnop\n",
      "; └\n"
     ]
    }
   ],
   "source": [
    "@code_native ^(2,5)"
   ]
  },
  {
   "cell_type": "markdown",
   "metadata": {
    "slideshow": {
     "slide_type": "slide"
    }
   },
   "source": [
    "Now let's define our own exponentiation on integers. Let's make it \"safe\" like the form seen in other scripting languages:"
   ]
  },
  {
   "cell_type": "code",
   "execution_count": 25,
   "metadata": {
    "slideshow": {
     "slide_type": "fragment"
    }
   },
   "outputs": [
    {
     "data": {
      "text/plain": [
       "expo (generic function with 1 method)"
      ]
     },
     "execution_count": 25,
     "metadata": {},
     "output_type": "execute_result"
    }
   ],
   "source": [
    "function expo(x,y)\n",
    "    if y>0\n",
    "        return x^y\n",
    "    else\n",
    "        x = convert(Float64,x)\n",
    "        return x^y\n",
    "    end\n",
    "end"
   ]
  },
  {
   "cell_type": "markdown",
   "metadata": {
    "slideshow": {
     "slide_type": "fragment"
    }
   },
   "source": [
    "Let's make sure it works:"
   ]
  },
  {
   "cell_type": "code",
   "execution_count": 26,
   "metadata": {
    "slideshow": {
     "slide_type": "fragment"
    }
   },
   "outputs": [
    {
     "data": {
      "text/plain": [
       "(32, 0.03125)"
      ]
     },
     "execution_count": 26,
     "metadata": {},
     "output_type": "execute_result"
    }
   ],
   "source": [
    "expo(2,5),expo(2,-5)"
   ]
  },
  {
   "cell_type": "markdown",
   "metadata": {
    "slideshow": {
     "slide_type": "slide"
    }
   },
   "source": [
    "\n",
    "What happens if we inspect this code?"
   ]
  },
  {
   "cell_type": "code",
   "execution_count": 27,
   "metadata": {
    "scrolled": true,
    "slideshow": {
     "slide_type": "fragment"
    }
   },
   "outputs": [
    {
     "name": "stdout",
     "output_type": "stream",
     "text": [
      "\t.section\t__TEXT,__text,regular,pure_instructions\n",
      "; ┌ @ In[25]:2 within `expo'\n",
      "\tpushl\t%ebx\n",
      "\tdecl\t%eax\n",
      "\tmovl\t%edi, %ebx\n",
      "; │┌ @ operators.jl:286 within `>'\n",
      "; ││┌ @ int.jl:49 within `<'\n",
      "\tdecl\t%eax\n",
      "\ttestl\t%edx, %edx\n",
      "; │└└\n",
      "\tjle\tL36\n",
      "; │ @ In[25]:3 within `expo'\n",
      "; │┌ @ intfuncs.jl:220 within `^'\n",
      "\tdecl\t%eax\n",
      "\tmovl\t$291097920, %eax        ## imm = 0x1159CD40\n",
      "\taddl\t%eax, (%eax)\n",
      "\taddb\t%al, (%eax)\n",
      "\tdecl\t%eax\n",
      "\tmovl\t%esi, %edi\n",
      "\tdecl\t%eax\n",
      "\tmovl\t%edx, %esi\n",
      "\tcalll\t*%eax\n",
      "; │└\n",
      "\tdecl\t%eax\n",
      "\tmovl\t%eax, (%ebx)\n",
      "\tmovb\t$2, %dl\n",
      "\txorl\t%eax, %eax\n",
      "\tpopl\t%ebx\n",
      "\tretl\n",
      "; │ @ In[25]:5 within `expo'\n",
      "; │┌ @ number.jl:7 within `convert'\n",
      "; ││┌ @ float.jl:60 within `Type'\n",
      "L36:\n",
      "\tvcvtsi2sdl\t%esi, %xmm0, %xmm0\n",
      "; │└└\n",
      "; │ @ In[25]:6 within `expo'\n",
      "; │┌ @ math.jl:793 within `^'\n",
      "; ││┌ @ float.jl:60 within `Type'\n",
      "\tvcvtsi2sdl\t%edx, %xmm1, %xmm1\n",
      "\tdecl\t%eax\n",
      "\tmovl\t$2794750456, %eax       ## imm = 0xA69481F8\n",
      "\t.byte\t0xff\t.byte\t0x7f\t.byte\t0x00\n",
      "\taddb\t%bh, %bh\n",
      "\trolb\t%ch\n",
      "\tsti\n",
      "\tadcl\t%eax, (%ebx)\n",
      "\tmovb\t$1, %dl\n",
      "\txorl\t%eax, %eax\n",
      "\tpopl\t%ebx\n",
      "\tretl\n",
      "\tnopw\t%cs:(%eax,%eax)\n",
      "; └└└\n"
     ]
    }
   ],
   "source": [
    "@code_native expo(2,5)"
   ]
  },
  {
   "cell_type": "markdown",
   "metadata": {
    "slideshow": {
     "slide_type": "slide"
    }
   },
   "source": [
    "That's a very visual demonstration on why Julia achieves such higher performance than other scripting languages by how it uses type inference."
   ]
  },
  {
   "cell_type": "code",
   "execution_count": 42,
   "metadata": {},
   "outputs": [],
   "source": [
    "## Another example of a price of code instability"
   ]
  },
  {
   "cell_type": "code",
   "execution_count": 44,
   "metadata": {},
   "outputs": [],
   "source": [
    "function g()\n",
    "  x=1\n",
    "  for i = 1:10\n",
    "    x = x/2\n",
    "  end\n",
    "  return x\n",
    "end\n",
    "\n",
    "function h()\n",
    "  x=1.0\n",
    "  for i = 1:10\n",
    "    x = x/2\n",
    "  end\n",
    "  return x\n",
    "end"
   ]
  },
  {
   "cell_type": "code",
   "execution_count": 45,
   "metadata": {},
   "outputs": [
    {
     "name": "stdout",
     "output_type": "stream",
     "text": [
      "\t.section\t__TEXT,__text,regular,pure_instructions\n",
      "; ┌ @ In[44]:10 within `h'\n",
      "\tdecl\t%eax\n",
      "\tmovl\t$1188803072, %eax       ## imm = 0x46DBB200\n",
      "\taddl\t%eax, (%eax)\n",
      "\taddb\t%al, (%eax)\n",
      "; │ @ In[44]:14 within `h'\n",
      "\tvmovsd\t(%eax), %xmm0           ## xmm0 = mem[0],zero\n",
      "\tretl\n",
      "\tnop\n",
      "; └\n"
     ]
    }
   ],
   "source": [
    "@code_native h()"
   ]
  },
  {
   "cell_type": "code",
   "execution_count": 46,
   "metadata": {},
   "outputs": [
    {
     "name": "stdout",
     "output_type": "stream",
     "text": [
      "\t.section\t__TEXT,__text,regular,pure_instructions\n",
      "; ┌ @ In[44]:2 within `g'\n",
      "\tpushl\t%eax\n",
      "\tmovb\t$2, %dl\n",
      "\tmovl\t$1, %ecx\n",
      "\tdecl\t%eax\n",
      "\tmovl\t$1188803376, %eax       ## imm = 0x46DBB330\n",
      "\taddl\t%eax, (%eax)\n",
      "\taddb\t%al, (%eax)\n",
      "\tvmovsd\t(%eax), %xmm0           ## xmm0 = mem[0],zero\n",
      "\tmovl\t$9, %eax\n",
      "\tdecl\t%eax\n",
      "\tmovl\t$1188803384, %esi       ## imm = 0x46DBB338\n",
      "\taddl\t%eax, (%eax)\n",
      "\taddb\t%al, (%eax)\n",
      "\tvmovsd\t(%esi), %xmm1           ## xmm1 = mem[0],zero\n",
      "\tandb\t$3, %dl\n",
      "; │ @ In[44]:4 within `g'\n",
      "\tcmpb\t$1, %dl\n",
      "\tjne\tL83\n",
      "\tjmp\tL93\n",
      "\tnopw\t%cs:(%eax,%eax)\n",
      "L64:\n",
      "\tvmovd\t%xmm0, %ecx\n",
      "\tdecl\t%eax\n",
      "\taddl\t$-1, %eax\n",
      "\tmovb\t$1, %dl\n",
      "\tandb\t$3, %dl\n",
      "\tcmpb\t$1, %dl\n",
      "\tje\tL93\n",
      "L83:\n",
      "\tcmpb\t$2, %dl\n",
      "\tjne\tL104\n",
      "; │┌ @ int.jl:59 within `/'\n",
      "; ││┌ @ float.jl:271 within `float'\n",
      "; │││┌ @ float.jl:256 within `Type' @ float.jl:60\n",
      "\tvcvtsi2sdl\t%ecx, %xmm2, %xmm0\n",
      "; │└└└\n",
      "; │┌ @ float.jl:401 within `/'\n",
      "L93:\n",
      "\tvmulsd\t%xmm1, %xmm0, %xmm0\n",
      "; │└\n",
      "; │┌ @ range.jl:594 within `iterate'\n",
      "; ││┌ @ promotion.jl:403 within `=='\n",
      "\tdecl\t%eax\n",
      "\ttestl\t%eax, %eax\n",
      "; │└└\n",
      "\tjne\tL64\n",
      "; │ @ In[44]:6 within `g'\n",
      "\tpopl\t%eax\n",
      "\tretl\n",
      "; │ @ In[44]:4 within `g'\n",
      "L104:\n",
      "\tdecl\t%eax\n",
      "\tmovl\t$227149552, %eax        ## imm = 0xD8A06F0\n",
      "\taddl\t%eax, (%eax)\n",
      "\taddb\t%al, (%eax)\n",
      "\tdecl\t%eax\n",
      "\tmovl\t$296498736, %edi        ## imm = 0x11AC3630\n",
      "\taddl\t%eax, (%eax)\n",
      "\taddb\t%al, (%eax)\n",
      "\tcalll\t*%eax\n",
      "\tnop\n",
      "; └\n"
     ]
    }
   ],
   "source": [
    "@code_native g()"
   ]
  },
  {
   "cell_type": "markdown",
   "metadata": {
    "slideshow": {
     "slide_type": "slide"
    }
   },
   "source": [
    "## The Julia Benchmarks\n",
    "\n",
    "The Julia benchmarks, featured on [the Julia website](http://julialang.org/), test components of the programming language for speed. **This doesn't mean it's testing the fastest implemention**. That is where a major misconception occurs. You'll have an R programmer look at the R code for the Fibonacci calculator and say \"wow, that's terrible R code. You're not supposed to use recursion in R. Of course it's slow\". However, the Fibonacci problem is designed to test recursion, not the fastest implementation to the *i*th Fibonacci number. The other problems are the same way: testing basic components of the langauge to see how fast they are.\n",
    "\n",
    "Julia is built up using multiple-dispatch on type-stable functions. As a result, even the earliest versions of Julia were easy for compilers to optimize to C/Fortran efficiency. It's clear that in almost every case Julia is close to C. Where it is not close to C actually has a few details. The first is the Fibonacci problem where Julia is 2.11x from C. This is because it is a test of recursion, and Julia does not fully optimize recursion (but still does very well on this problem!). The optimization which is used to receive the fastest times for this type of problem is known as Tail-Call Optimization. Julia can at any time add this optimization, though [there are reasons](https://github.com/JuliaLang/julia/issues/4964) why [they choose not to](https://groups.google.com/forum/?fromgroups=#!searchin/julia-users/tail$20call/julia-users/qHRDj80rIvA/T3AylpjsASEJ). The main reason is: any case where tail-call optimization is possible, a loop can also be used. But a loop is also more robust for optimizations (there are many recursive calls which will fail to tail-call optimize) and thus they want to just recommend using loops instead of using fragile TCO. \n",
    "\n",
    "The other cases where Julia doesn't do as well are the `rand_mat_stat` and the `parse_int` tests. However, this is largely due to a feature known as bounds checking. In most scripting languages, you will receive an error if you try to index an array outside of its bounds. Julia will do this by default:"
   ]
  },
  {
   "cell_type": "code",
   "execution_count": 28,
   "metadata": {
    "slideshow": {
     "slide_type": "slide"
    }
   },
   "outputs": [
    {
     "ename": "BoundsError",
     "evalue": "BoundsError: attempt to access 3-element Array{Float64,1} at index [4]",
     "output_type": "error",
     "traceback": [
      "BoundsError: attempt to access 3-element Array{Float64,1} at index [4]",
      "",
      "Stacktrace:",
      " [1] setindex! at ./array.jl:767 [inlined]",
      " [2] test1() at ./In[28]:4",
      " [3] top-level scope at In[28]:7"
     ]
    }
   ],
   "source": [
    "function test1()\n",
    "    a = zeros(3)\n",
    "    for i=1:4\n",
    "        a[i] = i\n",
    "    end\n",
    "end\n",
    "test1()"
   ]
  },
  {
   "cell_type": "markdown",
   "metadata": {
    "slideshow": {
     "slide_type": "fragment"
    }
   },
   "source": [
    "However, Julia allows you to turn this off using the `@inbounds` macro:"
   ]
  },
  {
   "cell_type": "code",
   "execution_count": 29,
   "metadata": {
    "slideshow": {
     "slide_type": "fragment"
    }
   },
   "outputs": [
    {
     "data": {
      "text/plain": [
       "3-element Array{Float64,1}:\n",
       " 1.0\n",
       " 2.0\n",
       " 3.0"
      ]
     },
     "execution_count": 29,
     "metadata": {},
     "output_type": "execute_result"
    }
   ],
   "source": [
    "function test2()\n",
    "    a = zeros(3)\n",
    "    @inbounds for i=1:4\n",
    "        a[i] = i\n",
    "    end\n",
    "    a\n",
    "end\n",
    "test2()"
   ]
  },
  {
   "cell_type": "markdown",
   "metadata": {
    "slideshow": {
     "slide_type": "slide"
    }
   },
   "source": [
    "This gives you the same unsafe behavior as C/Fortran, but also the same speed (indeed, if you add these to the benchmarks they will speed up close to C). This is another interesting feature of Julia: it lets you **by default have the safety of a scripting language, but turn off these features when necessary (/after testing and debugging) to get full performance.**"
   ]
  },
  {
   "cell_type": "markdown",
   "metadata": {
    "slideshow": {
     "slide_type": "slide"
    }
   },
   "source": [
    "# Lunch Money\n",
    "\n",
    "It's clear that Julia made clever design decisions in order to achieve its performance goals while still being a scripting language. However, what exactly is lost? Next I will show you a few pecularities of Julia that come from this design decision, and the tools Julia gives you to handle them."
   ]
  },
  {
   "cell_type": "markdown",
   "metadata": {
    "slideshow": {
     "slide_type": "slide"
    }
   },
   "source": [
    "## Performance as Optional\n",
    "\n",
    "One thing I already showed is that Julia gives many ways to achieve high performance (like `@inbounds`), but they don't have to be used. You can write type-unstable functions. It will be as slow as MATLAB/R/Python, but you can do it. In places where you don't need the best performance, it's nice to have this as an option."
   ]
  },
  {
   "cell_type": "markdown",
   "metadata": {
    "slideshow": {
     "slide_type": "slide"
    }
   },
   "source": [
    "## Checking for Type-Stability\n",
    "\n",
    "Since type-stability is so essential, Julia gives you tools to check that your functions are type stable. The most important is the `@code_warntype` macro. Let's use it to check a type-stable function:"
   ]
  },
  {
   "cell_type": "code",
   "execution_count": 30,
   "metadata": {
    "slideshow": {
     "slide_type": "fragment"
    }
   },
   "outputs": [
    {
     "name": "stdout",
     "output_type": "stream",
     "text": [
      "Body\u001b[36m::Int64\u001b[39m\n",
      "\u001b[90m1 ─\u001b[39m %1 = invoke Base.power_by_squaring(_2::Int64, _3::Int64)\u001b[36m::Int64\u001b[39m\n",
      "\u001b[90m└──\u001b[39m      return %1\n"
     ]
    }
   ],
   "source": [
    "@code_warntype 2^5"
   ]
  },
  {
   "cell_type": "markdown",
   "metadata": {
    "slideshow": {
     "slide_type": "slide"
    }
   },
   "source": [
    "Notice that it shows all of the variables in the function as strictly typed. What about in our `expo`?"
   ]
  },
  {
   "cell_type": "code",
   "execution_count": 31,
   "metadata": {
    "slideshow": {
     "slide_type": "fragment"
    }
   },
   "outputs": [
    {
     "name": "stdout",
     "output_type": "stream",
     "text": [
      "Body\u001b[91m\u001b[1m::Union{Float64, Int64}\u001b[22m\u001b[39m\n",
      "\u001b[90m1 ─\u001b[39m %1 = (Base.slt_int)(0, y)\u001b[36m::Bool\u001b[39m\n",
      "\u001b[90m└──\u001b[39m      goto #3 if not %1\n",
      "\u001b[90m2 ─\u001b[39m %3 = π (x, \u001b[36mInt64\u001b[39m)\n",
      "\u001b[90m│  \u001b[39m %4 = invoke Base.power_by_squaring(%3::Int64, _3::Int64)\u001b[36m::Int64\u001b[39m\n",
      "\u001b[90m└──\u001b[39m      return %4\n",
      "\u001b[90m3 ─\u001b[39m %6 = π (x, \u001b[36mInt64\u001b[39m)\n",
      "\u001b[90m│  \u001b[39m %7 = (Base.sitofp)(Float64, %6)\u001b[36m::Float64\u001b[39m\n",
      "\u001b[90m│  \u001b[39m %8 = (Base.sitofp)(Float64, y)\u001b[36m::Float64\u001b[39m\n",
      "\u001b[90m│  \u001b[39m %9 = $(Expr(:foreigncall, \"llvm.pow.f64\", Float64, svec(Float64, Float64), :(:llvmcall), 2, :(%7), :(%8), :(%8), :(%7)))\u001b[36m::Float64\u001b[39m\n",
      "\u001b[90m└──\u001b[39m      return %9\n"
     ]
    }
   ],
   "source": [
    "@code_warntype expo(2,5)"
   ]
  },
  {
   "cell_type": "markdown",
   "metadata": {
    "slideshow": {
     "slide_type": "fragment"
    }
   },
   "source": [
    "Notice that possible returns are the temporary `%4` and `%10` which are different types, and so the return type is inferred as `Union{Float64,Int64}`. To trace exactly to where this instability occurs, we can use Traceur.jl:"
   ]
  },
  {
   "cell_type": "code",
   "execution_count": 32,
   "metadata": {},
   "outputs": [
    {
     "name": "stderr",
     "output_type": "stream",
     "text": [
      "┌ Warning: x is assigned as Int64\n",
      "└ @ In[25]:2\n",
      "┌ Warning: x is assigned as Float64\n",
      "└ @ In[25]:5\n",
      "┌ Warning: expo returns Union{Float64, Int64}\n",
      "└ @ In[25]:2\n"
     ]
    },
    {
     "data": {
      "text/plain": [
       "32"
      ]
     },
     "execution_count": 32,
     "metadata": {},
     "output_type": "execute_result"
    }
   ],
   "source": [
    "using Traceur\n",
    "@trace expo(2,5)"
   ]
  },
  {
   "cell_type": "markdown",
   "metadata": {},
   "source": [
    "This tells us that on line 2 `x` is assigned to an `Int` while on line 5 it's assigned to a `Float64`, and so it's inferred as `Union{Float64, Int64}`. Line 5 is where we put the explicit `convert` call, so this identified exactly the issue for us."
   ]
  },
  {
   "cell_type": "markdown",
   "metadata": {
    "slideshow": {
     "slide_type": "slide"
    }
   },
   "source": [
    "## Dealing With Necessary Type-Instabilities\n",
    "\n",
    "For one, I already showed that some functions will error while in other scripting languages they will \"read your mind\". In many cases you will realize that you could've just used a different type from the start and achieved type-stability (why not just do `2.0^-5`?). However, there are some cases where you won't find an appropriate type. This can be easily fixed by conversions, though you then lose type stability. Instead you have to think about your design and cleverly use multiple dispatch.\n",
    "\n",
    "So let's say that we have `a` as a `Vector{Union{Float64,Int}}`. We may run into a case where we have to use `a`. Assume that on each element of `a` we have to perform a lot of operations. In this case, knowing the type of a given element will lead to massive performance gains, but since it's in a `Vector{Union{Float64,Int}}`, they will not be known in a function like:"
   ]
  },
  {
   "cell_type": "code",
   "execution_count": 33,
   "metadata": {
    "slideshow": {
     "slide_type": "fragment"
    }
   },
   "outputs": [
    {
     "data": {
      "text/plain": [
       "foo (generic function with 1 method)"
      ]
     },
     "execution_count": 33,
     "metadata": {},
     "output_type": "execute_result"
    }
   ],
   "source": [
    "function foo(array)\n",
    "  for i in eachindex(array)\n",
    "    val = array[i]\n",
    "    # do algorithm X on val\n",
    "  end\n",
    "end"
   ]
  },
  {
   "cell_type": "markdown",
   "metadata": {
    "slideshow": {
     "slide_type": "slide"
    }
   },
   "source": [
    "However, we can fix this with multiple dispatch. We can write a dispatch on elements:"
   ]
  },
  {
   "cell_type": "code",
   "execution_count": 34,
   "metadata": {
    "slideshow": {
     "slide_type": "fragment"
    }
   },
   "outputs": [
    {
     "data": {
      "text/plain": [
       "inner_foo (generic function with 1 method)"
      ]
     },
     "execution_count": 34,
     "metadata": {},
     "output_type": "execute_result"
    }
   ],
   "source": [
    "function inner_foo(val)\n",
    "  # Do algorithm X on val\n",
    "end"
   ]
  },
  {
   "cell_type": "markdown",
   "metadata": {
    "slideshow": {
     "slide_type": "fragment"
    }
   },
   "source": [
    "and instead define foo as:"
   ]
  },
  {
   "cell_type": "code",
   "execution_count": 35,
   "metadata": {
    "slideshow": {
     "slide_type": "fragment"
    }
   },
   "outputs": [
    {
     "data": {
      "text/plain": [
       "foo2 (generic function with 1 method)"
      ]
     },
     "execution_count": 35,
     "metadata": {},
     "output_type": "execute_result"
    }
   ],
   "source": [
    "function foo2(array::Array)\n",
    "  for i in eachindex(array)\n",
    "    inner_foo(array[i])\n",
    "  end\n",
    "end"
   ]
  },
  {
   "cell_type": "markdown",
   "metadata": {
    "slideshow": {
     "slide_type": "slide"
    }
   },
   "source": [
    "Since types are checked for dispatch, the function `inner_foo` is strictly typed. Thus if `inner_foo` is type-stable, then we can achieve high performance by allowing it to specialize within `inner_foo`. This leads to a general design principle that, if you're dealing with odd/non-strict types, you can use an outer function to handle the type logic while using an inner function for all of the hard calculations and achieve close to optimal performance while still having the generic abilities of a scripting language."
   ]
  },
  {
   "cell_type": "markdown",
   "metadata": {
    "slideshow": {
     "slide_type": "slide"
    }
   },
   "source": [
    "## REPL \"Globals\" Have Bad Performance"
   ]
  },
  {
   "cell_type": "markdown",
   "metadata": {
    "slideshow": {
     "slide_type": "fragment"
    }
   },
   "source": [
    "Globals in Julia have awful performance. Not using globals is [the first fact in the Performance Tips](http://docs.julialang.org/en/release-0.5/manual/performance-tips/). However, what newcomers don't realize is that the REPL is the global scope. To see why, recall that Julia has nested scopes. For example, if you have a function inside of a function, then the inner function has all of the variables of the outer function."
   ]
  },
  {
   "cell_type": "code",
   "execution_count": 36,
   "metadata": {
    "slideshow": {
     "slide_type": "fragment"
    }
   },
   "outputs": [
    {
     "data": {
      "text/plain": [
       "test (generic function with 1 method)"
      ]
     },
     "execution_count": 36,
     "metadata": {},
     "output_type": "execute_result"
    }
   ],
   "source": [
    "function test(x)\n",
    "    y = x+2\n",
    "    function test2()\n",
    "        y+3\n",
    "    end\n",
    "    test2()\n",
    "end"
   ]
  },
  {
   "cell_type": "markdown",
   "metadata": {
    "slideshow": {
     "slide_type": "slide"
    }
   },
   "source": [
    "In `test2`, `y` is known because it is defined in `test`. This will all work to give something performant if `y` is type-stable since `test2` could then assume that `y` is always an integer. But now look at what happens at the highest scope (and thus effectively the global scope):"
   ]
  },
  {
   "cell_type": "code",
   "execution_count": 37,
   "metadata": {
    "slideshow": {
     "slide_type": "fragment"
    }
   },
   "outputs": [
    {
     "data": {
      "text/plain": [
       "3.0"
      ]
     },
     "execution_count": 37,
     "metadata": {},
     "output_type": "execute_result"
    }
   ],
   "source": [
    "a = 3\n",
    "function badidea()\n",
    "    a + 2\n",
    "end\n",
    "a = 3.0"
   ]
  },
  {
   "cell_type": "markdown",
   "metadata": {
    "slideshow": {
     "slide_type": "slide"
    }
   },
   "source": [
    "Because no dispatch is used to specialize `badidea`, and we can change the type of `a` at any time, and therefore `badidea` cannot add optimizations when compiling since the type of `a` is unknown during compile time. However, Julia allows us to specify variables as constant:"
   ]
  },
  {
   "cell_type": "code",
   "execution_count": 38,
   "metadata": {
    "slideshow": {
     "slide_type": "fragment"
    }
   },
   "outputs": [
    {
     "data": {
      "text/plain": [
       "badidea (generic function with 1 method)"
      ]
     },
     "execution_count": 38,
     "metadata": {},
     "output_type": "execute_result"
    }
   ],
   "source": [
    "const a_cons = 3\n",
    "function badidea()\n",
    "    a_cons + 2\n",
    "end"
   ]
  },
  {
   "cell_type": "markdown",
   "metadata": {
    "slideshow": {
     "slide_type": "slide"
    }
   },
   "source": [
    "Beware that functions will specialize using the value of the constants, so they should go unchanged after being set.\n",
    "\n",
    "This will show up when trying to do benchmarks. The most common human error to see is for newcomers to benchmark Julia like:"
   ]
  },
  {
   "cell_type": "code",
   "execution_count": 39,
   "metadata": {
    "slideshow": {
     "slide_type": "fragment"
    }
   },
   "outputs": [
    {
     "name": "stdout",
     "output_type": "stream",
     "text": [
      "  0.000006 seconds (4 allocations: 64 bytes)\n"
     ]
    }
   ],
   "source": [
    "a = 3.0\n",
    "@time for i = 1:4\n",
    "    global a\n",
    "    a += i\n",
    "end"
   ]
  },
  {
   "cell_type": "markdown",
   "metadata": {
    "slideshow": {
     "slide_type": "fragment"
    }
   },
   "source": [
    "However, if we put this in a function, it will optimize (in fact, it will optimize away the loop and stick in the answer)"
   ]
  },
  {
   "cell_type": "code",
   "execution_count": 40,
   "metadata": {
    "slideshow": {
     "slide_type": "fragment"
    }
   },
   "outputs": [
    {
     "name": "stdout",
     "output_type": "stream",
     "text": [
      "  0.000000 seconds\n",
      "  0.000000 seconds\n"
     ]
    }
   ],
   "source": [
    "function timetest()\n",
    "    a = 3.0\n",
    "    @time for i = 1:4\n",
    "        a += i\n",
    "    end\n",
    "end\n",
    "timetest() # First time compiles\n",
    "timetest()"
   ]
  },
  {
   "cell_type": "markdown",
   "metadata": {},
   "source": [
    "# A major syntactic headache of Julia 1.1+"
   ]
  },
  {
   "cell_type": "code",
   "execution_count": 41,
   "metadata": {},
   "outputs": [
    {
     "ename": "UndefVarError",
     "evalue": "UndefVarError: a not defined",
     "output_type": "error",
     "traceback": [
      "UndefVarError: a not defined",
      "",
      "Stacktrace:",
      " [1] macro expansion at ./In[41]:3 [inlined]",
      " [2] macro expansion at ./util.jl:156 [inlined]",
      " [3] top-level scope at ./In[41]:2 [inlined]",
      " [4] top-level scope at ./none:0"
     ]
    }
   ],
   "source": [
    "a = 3.0\n",
    "@time for i = 1:4\n",
    "    a += i\n",
    "end"
   ]
  },
  {
   "cell_type": "markdown",
   "metadata": {
    "slideshow": {
     "slide_type": "slide"
    }
   },
   "source": [
    "This is a very easy problem to fall for: don't benchmark or time things in the REPL's global scope. Always wrap things in a function or declare them as const. There is a developer thread [to make the global performance less awful](https://github.com/JuliaLang/julia/issues/8870) but, given the information from this notebook, you can already see that it will never be \"not awful\", it will just be \"less awful\"."
   ]
  },
  {
   "cell_type": "markdown",
   "metadata": {
    "slideshow": {
     "slide_type": "slide"
    }
   },
   "source": [
    "# Conclusion\n",
    "\n",
    "Julia is fast by design. Type stability and multiple dispatch is necessary to do the specialization that is involved in Julia's compilation to make it work so well. The robust type system is required to make working with types at such a fine level in order to effectively achieve type-stability whenever possible, and manage optimizations when it's not totally possible."
   ]
  },
  {
   "cell_type": "markdown",
   "metadata": {},
   "source": [
    "# More remarks\n",
    "\n",
    "- Packaging system\n",
    "- Programming CUDA kernels in Julia\n",
    "- Powerfull meta-programming\n",
    "    + Macros to write domain specific languages and adding syntactic sugar\n",
    "    + Removing some boring boilerplates\n",
    "    + Generated function to incercept function specialization\n",
    "    + Intercept compilation to LLVM\n",
    "- The language is still young:\n",
    "    + It is still evolving\n",
    "    + Its package system is less mature than for other languages."
   ]
  },
  {
   "cell_type": "code",
   "execution_count": 47,
   "metadata": {},
   "outputs": [
    {
     "data": {
      "image/png": "[encoded data removed]",
      "text/plain": [
       "Scene (960px, 540px):\n",
       "events:\n",
       "    window_area: GeometryTypes.HyperRectangle{2,Int64}([0, 0], [0, 0])\n",
       "    window_dpi: 100.0\n",
       "    window_open: false\n",
       "    mousebuttons: Set(AbstractPlotting.Mouse.Button[])\n",
       "    mouseposition: (0.0, 0.0)\n",
       "    mousedrag: notpressed\n",
       "    scroll: (0.0, 0.0)\n",
       "    keyboardbuttons: Set(AbstractPlotting.Keyboard.Button[])\n",
       "    unicode_input: Char[]\n",
       "    dropped_files: String[]\n",
       "    hasfocus: false\n",
       "    entered_window: false\n",
       "plots:\n",
       "   *Axis3D{...}\n",
       "   *Contour{...}\n",
       "subscenes:"
      ]
     },
     "execution_count": 47,
     "metadata": {},
     "output_type": "execute_result"
    }
   ],
   "source": [
    "using Makie\n",
    "\n",
    " N = 100\n",
    " r = range(-1, stop = 1, length = N)\n",
    "\n",
    " # bunch of equations and inequalities\n",
    " f1(x,y,z) = x.^2 .+ y.^2 .+ z.^2 #center sphere\n",
    " f2(x,y,z) = y.^2 .+ z.^2 #command deck cylinder thing\n",
    " f3(x,y,z) = x.^2 .+ 4 .* y.^2 #controls the flattened cylinder connecting center pod to wings\n",
    " f4(x,y,z) = (y .* 0.7 .+ 0.05) #defines the diagonal spokes\n",
    " f5(x,y,z) = (y .* 0.7 .- 0.05) #defines the diagonal spokes\n",
    " f6(x,y,z) = abs.(x) + 0.3 .* abs.(y) #frame part of the wings\n",
    "\n",
    " e1(x,y,z) = 0.12 .* (1 .- abs.(z)) #limits of a hexagonal tube in the inside of the craft\n",
    " e2(x,y,z) = abs.(z) .* (abs.(z) .< 0.95) #outer limits of the wing plane\n",
    " e3(x,y,z) = abs.(z) .* (abs.(z) .> 0.9) #inner limits of the wing plane\n",
    " e4(x,y,z) = (abs.(x) + abs.(0.3 .*y)) .* ((abs.(x) + abs.(0.3 .* y)) .< 1) #frame of the wings\n",
    " e5(x,y,z) = abs.(z) .* (abs.(z) .< 1.05) #outside thickness of wing frames, including the spokes\n",
    " e6(x,y,z) = abs.(z) .* (abs.(z) .> 0.80) #inside thickness of wing frames, including the spokes\n",
    " e7(x,y,z) = abs.(x) .* (abs.(x) .< 0.7) #length of the straight bars part of frames\n",
    " e8(x,y,z) = abs.(y) .* (abs.(y) .> 0.9) #width of the straight bars part of frames\n",
    " e9(x,y,z) = abs.(y) .* (abs.(y) .< 0.035) #the thickness of the horizontal reinforcing bar on the wing planes\n",
    "\n",
    " amp = 15 #this just amplifies the \"strength\" of a volume, so that it shows up more clearly in the plot\n",
    "\n",
    " # spawn the tie fighter\n",
    " me = [(f1(x,y,z) .* f1(x,y,z).<0.2) .+ ((f2(x,y,z) .* f2(x,y,z).<0.02).*((x.<0.68).*(x.>0.50))) .+ amp .* (f3(x,y,z) .* (f3(x,y,z) .< e1(x,y,z))) .+ (e2(x,y,z).*e3(x,y,z).*e4(x,y,z)) .+ (e5(x,y,z).*e6(x,y,z)).*((e7(x,y,z)).*(e8(x,y,z)) .+ e9(x,y,z) .+ ((x.>f5(x,y,z)).*x).*((x.<f4(x,y,z)).*x) .+ (((-).(x).>f5(x,y,z)).*x).*(((-).(x).<f4(x,y,z)).*x) .+ ((f6(x,y,z).*(f6(x,y,z).<1.05)).*(f6(x,y,z).*(f6(x,y,z).>0.95)))) for x=r, y=r, z=r]\n",
    "\n",
    " me2 = me\n",
    " for i = 1:length(r)\n",
    "     me2[:,:,i] = me2[:,:,i] .- min(me2[:,:,i]...)\n",
    "     me2[:,:,i] = me2[:,:,i] ./ max(me2[:,:,i]...)\n",
    " end\n",
    " contour(me2, colormap = :Purples, colorrange = (0.001,0.6), alpha = 1.0, levels = 10)"
   ]
  },
  {
   "cell_type": "code",
   "execution_count": null,
   "metadata": {},
   "outputs": [],
   "source": []
  }
 ],
 "metadata": {
  "celltoolbar": "Slideshow",
  "kernelspec": {
   "display_name": "Julia 1.1.0",
   "language": "julia",
   "name": "julia-1.1"
  },
  "language_info": {
   "file_extension": ".jl",
   "mimetype": "application/julia",
   "name": "julia",
   "version": "1.1.0"
  }
 },
 "nbformat": 4,
 "nbformat_minor": 2
}
